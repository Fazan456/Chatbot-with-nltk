{
  "nbformat": 4,
  "nbformat_minor": 0,
  "metadata": {
    "colab": {
      "provenance": []
    },
    "kernelspec": {
      "name": "python3",
      "display_name": "Python 3"
    },
    "language_info": {
      "name": "python"
    }
  },
  "cells": [
    {
      "cell_type": "code",
      "execution_count": null,
      "metadata": {
        "id": "lIe5SlaIjT4h"
      },
      "outputs": [],
      "source": [
        "import numpy as np\n",
        "import nltk\n",
        "import string\n",
        "import random"
      ]
    },
    {
      "cell_type": "code",
      "source": [
        " f=open('chatbot.txt','r',errors='ignore')\n",
        " raw_doc=f.read()\n",
        " raw_doc=raw_doc.lower()\n",
        " nltk.download('punkt')\n",
        " nltk.download('wordnet')\n",
        "sent_tokens=nltk.sent_tokenize(raw_doc)\n",
        "word_tokens=nltk.word_tokenize(raw_doc)"
      ],
      "metadata": {
        "colab": {
          "base_uri": "https://localhost:8080/"
        },
        "id": "7MmhHrMnlBsA",
        "outputId": "f1977ccf-d44c-4370-9617-0b1a7cee430b"
      },
      "execution_count": null,
      "outputs": [
        {
          "output_type": "stream",
          "name": "stderr",
          "text": [
            "[nltk_data] Downloading package punkt to /root/nltk_data...\n",
            "[nltk_data]   Unzipping tokenizers/punkt.zip.\n",
            "[nltk_data] Downloading package wordnet to /root/nltk_data...\n"
          ]
        }
      ]
    },
    {
      "cell_type": "code",
      "source": [
        "sent_tokens[:2]"
      ],
      "metadata": {
        "colab": {
          "base_uri": "https://localhost:8080/"
        },
        "id": "v3gobDWpoqSX",
        "outputId": "07180709-018f-435a-d96d-48757464a0bf"
      },
      "execution_count": null,
      "outputs": [
        {
          "output_type": "execute_result",
          "data": {
            "text/plain": [
              "[' an overview of tokenization algorithms in nlp\\n\\nlanguage is one of the fundamental aspects responsible for setting the foundations of human civilization.',\n",
              " 'however, gaining fluency in a new language from ground zero can be quite a challenging task.']"
            ]
          },
          "metadata": {},
          "execution_count": 4
        }
      ]
    },
    {
      "cell_type": "code",
      "source": [
        "word_tokens[:6]"
      ],
      "metadata": {
        "colab": {
          "base_uri": "https://localhost:8080/"
        },
        "id": "1VTU1Shyo3WI",
        "outputId": "98432d9e-e47c-4618-aff5-256c298a429d"
      },
      "execution_count": null,
      "outputs": [
        {
          "output_type": "execute_result",
          "data": {
            "text/plain": [
              "['an', 'overview', 'of', 'tokenization', 'algorithms', 'in']"
            ]
          },
          "metadata": {},
          "execution_count": 6
        }
      ]
    },
    {
      "cell_type": "code",
      "source": [
        "lemmer = nltk.stem.WordNetLemmatizer() "
      ],
      "metadata": {
        "id": "8Ln_6Z6GpEgo"
      },
      "execution_count": null,
      "outputs": []
    },
    {
      "cell_type": "code",
      "source": [
        "lemmer=nltk.stem.WordNetLemmatizer()\n",
        "def LemTokens(tokens):\n",
        "  return [lemmer.lemmatize(token) for token in tokens]\n",
        "  remove_punct_dict = dict((ord(punct), None) for punct in string.punctuation)\n",
        "  def LemNormalize(text):\n",
        "    return LemTokens(nltk.word_tokenize(text.lower().translate(remove_punct_dict)))"
      ],
      "metadata": {
        "id": "aiekD8v-z_5c"
      },
      "execution_count": null,
      "outputs": []
    },
    {
      "cell_type": "code",
      "source": [
        "GREET_INPUTS = (\"hello\",\"hi\",\"greeting\",\"sup\",\"what's up\",\"hey\")\n",
        "GREET_RESPONSES = [\"hi\",\"hey\",\"hi there\",\"hello\",\" I am glad! you are talking to me\"]\n",
        "def greet(sentence):\n",
        "    for word in sentence.split():\n",
        "      if word.lower() in GREET_INPUTS:\n",
        "        return random.choice(GREET_RESPONSES)"
      ],
      "metadata": {
        "id": "coZEHpAn8f6D"
      },
      "execution_count": null,
      "outputs": []
    },
    {
      "cell_type": "code",
      "source": [
        " from sklearn.feature_extraction.text import TfidfVectorizer\n",
        "from sklearn.metrics.pairwise import cosine_similarity"
      ],
      "metadata": {
        "id": "G2O0HYRAhU85"
      },
      "execution_count": null,
      "outputs": []
    },
    {
      "cell_type": "code",
      "source": [
        "def response(user_response):\n",
        "  robo1_response=''\n",
        "  TfidfVec= TfidfVectorizer(tokenizer=LemNormalize, stop_words='english')\n",
        "  tfidf = Tfidfvec.fit_transform(sent_tokens)\n",
        "  vals = cosine_similarity(tfidf[-1], tfidf)\n",
        "  idx=vals.argsort()[0][-2]\n",
        "  flat = vals.flatten()\n",
        "  flat.sort()\n",
        "  req_tfidf = flat[-2]\n",
        "  if(req_tfidf==0):\n",
        "    robo1_response = robo1_response +\" I am! I don't understand you\"\n",
        "    return robo1_response\n",
        "  else:\n",
        "    robo1_response = robo1_response+sent\n",
        "    return robol_response\n",
        "\n"
      ],
      "metadata": {
        "id": "-fPXxgAPiBzj"
      },
      "execution_count": null,
      "outputs": []
    },
    {
      "cell_type": "code",
      "source": [
        "flag=True\n",
        "print(\"BOT:My name is Fazan, let's have a Conversation! Also, if youb want to exit any time, just type Bye!\")\n",
        "while(flag==True):\n",
        "user_response = input()\n",
        "user_response=user_response.lower()\n",
        "if(user_response!='bye'):\n",
        "  if(user_response=='thanks' or user_response=='Thank you'):\n",
        "    flag=False\n",
        "    print(\"BOT:You are welcome...\")\n",
        "    else:\n",
        "      if(greet(user_response))"
      ],
      "metadata": {
        "id": "Xhv6uP8X9PN9",
        "outputId": "e6b74370-d53c-47a2-a5ad-0f08edb2d921",
        "colab": {
          "base_uri": "https://localhost:8080/",
          "height": 133
        }
      },
      "execution_count": null,
      "outputs": [
        {
          "output_type": "error",
          "ename": "IndentationError",
          "evalue": "ignored",
          "traceback": [
            "\u001b[0;36m  File \u001b[0;32m\"<ipython-input-26-71bea1d69f24>\"\u001b[0;36m, line \u001b[0;32m4\u001b[0m\n\u001b[0;31m    user_response = input()\u001b[0m\n\u001b[0m    ^\u001b[0m\n\u001b[0;31mIndentationError\u001b[0m\u001b[0;31m:\u001b[0m expected an indented block\n"
          ]
        }
      ]
    }
  ]
}